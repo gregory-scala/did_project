{
 "cells": [
  {
   "cell_type": "code",
   "execution_count": 1,
   "id": "a80fc2c5",
   "metadata": {},
   "outputs": [],
   "source": [
    "import requests\n",
    "import pandas as pd"
   ]
  },
  {
   "cell_type": "code",
   "execution_count": 2,
   "id": "a4efb4ee",
   "metadata": {},
   "outputs": [
    {
     "name": "stdout",
     "output_type": "stream",
     "text": [
      "API Keys are Loaded\n"
     ]
    }
   ],
   "source": [
    "###i use this cell to get my US Census API Key\n",
    "\n",
    "%run APIKeys.py\n",
    "mykey = os.environ['Census_API_key']"
   ]
  },
  {
   "cell_type": "markdown",
   "id": "b57652b2",
   "metadata": {},
   "source": [
    "## Scrape Data From 2012-2019 ACS Five Year Estimates"
   ]
  },
  {
   "cell_type": "markdown",
   "id": "8a747456-339c-4f77-9d4a-304e97ffd9a3",
   "metadata": {},
   "source": [
    "(Note, please see the ACS five year estimates codebook for definitions of variable names)"
   ]
  },
  {
   "cell_type": "code",
   "execution_count": 5,
   "id": "4ccaa84d",
   "metadata": {},
   "outputs": [],
   "source": [
    "full_base_url = \"https://api.census.gov/data/{year}/acs/acs5\"\n",
    "###get urls for variables (see code below for dictionary)\n",
    "params2 = {\n",
    "    \"get\": \",\".join([\n",
    "            \"NAME\",\n",
    "            \"B19013_001E\",\n",
    "            \"B01003_001E\",\n",
    "            \"B03002_001E\",\n",
    "            \"B03002_012E\",\n",
    "            \"B03002_004E\",\n",
    "            \"B01001_001E\",\n",
    "            \"B01001_026E\",\n",
    "            \"B23025_003E\",\n",
    "            \"B23025_005E\",\n",
    "            \"B15003_017E\",\n",
    "            \"B15003_018E\",  \n",
    "            \"B15003_019E\",  \n",
    "            \"B15003_020E\",   \n",
    "            \"B15003_021E\",\n",
    "            \"B15003_022E\",\n",
    "            \"B15003_023E\",\n",
    "            \"B15003_024E\",\n",
    "            \"B15003_025E\",\n",
    "            \"B15003_001E\",\n",
    "            \"B17001_001E\",\n",
    "            \"B17001_002E\"\n",
    "    ]),\n",
    "    \"for\": \"county:*\",\n",
    "    \"in\": \"state:*\",\n",
    "    \"key\": mykey\n",
    "}"
   ]
  },
  {
   "cell_type": "code",
   "execution_count": 6,
   "id": "3175df52",
   "metadata": {},
   "outputs": [],
   "source": [
    "data_2012_2019 = []"
   ]
  },
  {
   "cell_type": "code",
   "execution_count": 7,
   "id": "2646c3f1",
   "metadata": {},
   "outputs": [],
   "source": [
    "###getting data from 2007-2019 ACS surveys\n",
    "for year in range (2012,2020):\n",
    "    url_temp = full_base_url.format(year=year)\n",
    "    response_temp = requests.get(url_temp, params=params2)\n",
    "    \n",
    "    if response_temp.status_code == 200:\n",
    "        data_temp = response_temp.json()\n",
    "        df_temp = pd.DataFrame(data_temp[1:], columns=data_temp[0])  # Convert to DataFrame\n",
    "        df_temp[\"year\"] = year  # Add year column\n",
    "        data_2012_2019.append(df_temp)  # Store results\n",
    "    \n",
    "    else:\n",
    "        print(f\"Error {response_temp.status_code} for year {year}\")"
   ]
  },
  {
   "cell_type": "code",
   "execution_count": 8,
   "id": "446286be",
   "metadata": {},
   "outputs": [],
   "source": [
    "## aggregating the data to one dataframe\n",
    "final_df = pd.concat(data_2012_2019, ignore_index=True)"
   ]
  },
  {
   "cell_type": "code",
   "execution_count": 9,
   "id": "52973c36",
   "metadata": {},
   "outputs": [],
   "source": [
    "# Convert numeric columns to numeric\n",
    "numeric_columns = ['B19013_001E', 'B01003_001E', 'B03002_001E', 'B03002_012E',\n",
    "       'B03002_004E', 'B01001_001E', 'B01001_026E', 'B23025_003E',\n",
    "       'B23025_005E', 'B15003_017E', 'B15003_018E', 'B15003_019E',\n",
    "       'B15003_020E', 'B15003_021E', 'B15003_022E', 'B15003_023E',\n",
    "       'B15003_024E', 'B15003_025E', 'B15003_001E', 'B17001_001E',\n",
    "       'B17001_002E', 'state', 'county']\n",
    "\n",
    "final_df[numeric_columns] = final_df[numeric_columns].apply(pd.to_numeric, errors='coerce')"
   ]
  },
  {
   "cell_type": "code",
   "execution_count": 11,
   "id": "78272a48",
   "metadata": {},
   "outputs": [],
   "source": [
    "# Rename columns for clarity\n",
    "final_df.rename(columns={\n",
    "    \"NAME\": \"County_Name\",\n",
    "    \"B19013_001E\": \"Median_Household_Income\",\n",
    "    \"B01003_001E\": \"Total_Population\",\n",
    "    \"B03002_001E\": \"Total_Race\",\n",
    "    \"B03002_012E\": \"Total_Hispanic_Population\",\n",
    "    \"B03002_004E\": \"Total_NonHispanic_Black_Population\",\n",
    "    \"B01001_001E\": \"Total_Population_Sex\",\n",
    "    \"B01001_026E\": \"Total_Female_Population\",\n",
    "    \"B23025_003E\": \"Labor_Force\", #not in 2009 or 2010\n",
    "    \"B23025_005E\": \"Unemployed_Population\", #not in 2009 or 2010\n",
    "    \"B15003_017E\":  \"HS_diploma\",\n",
    "    \"B15003_018E\": \"GED\",  #not in 2009-2011\n",
    "    \"B15003_019E\": \"Some_College_less1year\",  \n",
    "    \"B15003_020E\": \"SomeCollege_1ormore\",   \n",
    "    \"B15003_021E\": \"Associates\",\n",
    "    \"B15003_022E\": \"Bachelors\",\n",
    "    \"B15003_023E\": \"Masters\",\n",
    "    \"B15003_024E\": \"Professional\",\n",
    "    \"B15003_025E\": \"Doctorate\",\n",
    "    \"B15003_001E\": \"Totalpop_25_orolder\",\n",
    "    \"B17001_001E\": \"Poverty_Status_Total\", #not in 2009\n",
    "    \"B17001_002E\": \"Total_Below_Poverty\"\n",
    "}, inplace=True)\n"
   ]
  },
  {
   "cell_type": "code",
   "execution_count": 12,
   "id": "c679f234",
   "metadata": {},
   "outputs": [
    {
     "data": {
      "text/plain": [
       "(25762, 25)"
      ]
     },
     "execution_count": 12,
     "metadata": {},
     "output_type": "execute_result"
    }
   ],
   "source": [
    "final_df.shape"
   ]
  },
  {
   "cell_type": "markdown",
   "id": "0b3cfddf",
   "metadata": {},
   "source": [
    "### Importing 2011 data with different columns"
   ]
  },
  {
   "cell_type": "code",
   "execution_count": 23,
   "id": "2873d667",
   "metadata": {},
   "outputs": [],
   "source": [
    "#web-scraping using the \n",
    "\n",
    "base_url_2011 = \"https://api.census.gov/data/2011/acs/acs5\"\n",
    "###get urls for variables (see code below for dictionary)\n",
    "params_2011 = {\n",
    "    \"get\": \",\".join([\n",
    "                    \"NAME\",\n",
    "                    \"B19013_001E\",\n",
    "                    \"B01003_001E\",\n",
    "                    \"B03002_001E\",\n",
    "                    \"B03002_012E\",\n",
    "                    \"B03002_004E\",\n",
    "                    \"B01001_001E\",\n",
    "                    \"B01001_026E\",\n",
    "                    \"B23025_003E\",\n",
    "                    \"B23025_005E\",\n",
    "                    \"B15002_011E\",\n",
    "                    \"B15002_012E\",  \n",
    "                    \"B15002_013E\",   \n",
    "                    \"B15002_014E\",\n",
    "                    \"B15002_015E\",\n",
    "                    \"B15002_016E\",\n",
    "                    \"B15002_017E\",\n",
    "                    \"B15002_018E\",\n",
    "                    \"B15002_028E\",\n",
    "                    \"B15002_029E\",  \n",
    "                    \"B15002_030E\",   \n",
    "                    \"B15002_031E\",\n",
    "                    \"B15002_032E\",\n",
    "                    \"B15002_033E\",\n",
    "                    \"B15002_034E\",\n",
    "                    \"B15002_035E\",\n",
    "                    \"B15002_001E\",\n",
    "                    \"B17001_001E\", #not in 2009\n",
    "                    \"B17001_002E\"\n",
    "    ]),\n",
    "    \"for\": \"county:*\",\n",
    "    \"in\": \"state:*\",\n",
    "    \"key\": mykey\n",
    "}"
   ]
  },
  {
   "cell_type": "code",
   "execution_count": 25,
   "id": "bf7ee773",
   "metadata": {},
   "outputs": [],
   "source": [
    "response_2011 = requests.get(base_url_2011, params=params_2011)\n",
    "data_full_2011 = response_2011.json()\n",
    "\n",
    "if response_2011.status_code == 200:\n",
    "    data_temp_2011 = response_2011.json()\n",
    "    final_df_2011 = pd.DataFrame(data_temp_2011[1:], columns=data_temp_2011[0])  # Convert to DataFrame\n",
    "    final_df_2011[\"year\"] = 2011  # Add year column\n",
    "    \n",
    "else:\n",
    "    print(f\"Error {response_2011.status_code} for year 2011\")\n",
    "    \n"
   ]
  },
  {
   "cell_type": "code",
   "execution_count": 26,
   "id": "b690fd94",
   "metadata": {},
   "outputs": [],
   "source": [
    "numeric_columns = ['B19013_001E', 'B01003_001E', 'B03002_001E', 'B03002_012E',\n",
    "       'B03002_004E', 'B01001_001E', 'B01001_026E', 'B23025_003E',\n",
    "       'B23025_005E', 'B15002_011E', 'B15002_012E', 'B15002_013E',\n",
    "       'B15002_014E', 'B15002_015E', 'B15002_016E', 'B15002_017E',\n",
    "       'B15002_018E', 'B15002_028E', 'B15002_029E', 'B15002_030E',\n",
    "       'B15002_031E', 'B15002_032E', 'B15002_033E', 'B15002_034E',\n",
    "       'B15002_035E', 'B15002_001E', 'B17001_001E', 'B17001_002E', 'state',\n",
    "       'county', 'year']"
   ]
  },
  {
   "cell_type": "code",
   "execution_count": 27,
   "id": "fe4d6b63",
   "metadata": {},
   "outputs": [],
   "source": [
    "# Convert numeric columns to numeric\n",
    "\n",
    "final_df_2011[numeric_columns] = final_df_2011[numeric_columns].apply(pd.to_numeric, errors='coerce')"
   ]
  },
  {
   "cell_type": "code",
   "execution_count": 28,
   "id": "26f19a65",
   "metadata": {},
   "outputs": [],
   "source": [
    "# Rename columns for clarity\n",
    "final_df_2011.rename(columns={\n",
    "    \"NAME\": \"County_Name\",\n",
    "    \"B19013_001E\": \"Median_Household_Income\",\n",
    "    \"B01003_001E\": \"Total_Population\",\n",
    "    \"B03002_001E\": \"Total_Race\",\n",
    "    \"B03002_012E\": \"Total_Hispanic_Population\",\n",
    "    \"B03002_004E\": \"Total_NonHispanic_Black_Population\",\n",
    "    \"B01001_001E\": \"Total_Population_Sex\",\n",
    "    \"B01001_026E\": \"Total_Female_Population\",\n",
    "    \"B23025_003E\": \"Labor_Force\", #not in 2009 or 2010\n",
    "    \"B23025_005E\": \"Unemployed_Population\", #not in 2009 or 2010\n",
    "    \"B15002_011E\":  \"HS_diploma_Men\",\n",
    "    \"B15002_012E\": \"Some_College_less1year_Men\",  \n",
    "    \"B15002_013E\": \"SomeCollege_1ormore_Men\",   \n",
    "    \"B15002_014E\": \"Associates_Men\",\n",
    "    \"B15002_015E\": \"Bachelors_Men\",\n",
    "    \"B15002_016E\": \"Masters_Men\",\n",
    "    \"B15002_017E\": \"Professional_Men\",\n",
    "    \"B15002_018E\": \"Doctorate_Men\",\n",
    "    \"B15002_028E\":  \"HS_diploma_Women\",\n",
    "    \"B15002_029E\": \"Some_College_less1year_Women\",  \n",
    "    \"B15002_030E\": \"SomeCollege_1ormore_Women\",   \n",
    "    \"B15002_031E\": \"Associates_Women\",\n",
    "    \"B15002_032E\": \"Bachelors_Women\",\n",
    "    \"B15002_033E\": \"Masters_Women\",\n",
    "    \"B15002_034E\": \"Professional_Women\",\n",
    "    \"B15002_035E\": \"Doctorate_Women\",\n",
    "    \"B15002_001E\": \"Totalpop_25_orolder\",\n",
    "    \"B17001_001E\": \"Poverty_Status_Total\", #not in 2009\n",
    "    \"B17001_002E\": \"Total_Below_Poverty\"\n",
    "}, inplace=True)\n"
   ]
  },
  {
   "cell_type": "code",
   "execution_count": 29,
   "id": "a0c55263",
   "metadata": {},
   "outputs": [],
   "source": [
    "### making column names consistent for 2012-2019\n",
    "\n",
    "final_df_2011['HS_diploma'] = final_df_2011['HS_diploma_Men'] + final_df_2011['HS_diploma_Women']\n",
    "final_df_2011['Some_College_less1year'] = final_df_2011['Some_College_less1year_Men'] + final_df_2011['Some_College_less1year_Women']\n",
    "final_df_2011['SomeCollege_1ormore'] = final_df_2011['SomeCollege_1ormore_Men'] + final_df_2011['SomeCollege_1ormore_Women']\n",
    "final_df_2011['Associates'] = final_df_2011['Associates_Men'] + final_df_2011['Associates_Women']\n",
    "final_df_2011['Bachelors'] = final_df_2011['Bachelors_Men'] + final_df_2011['Bachelors_Women']\n",
    "final_df_2011['Masters'] = final_df_2011['Masters_Men'] + final_df_2011['Masters_Women']\n",
    "final_df_2011['Professional'] = final_df_2011['Professional_Men'] + final_df_2011['Professional_Women']\n",
    "final_df_2011['Doctorate'] = final_df_2011['Doctorate_Men'] + final_df_2011['Doctorate_Women']\n"
   ]
  },
  {
   "cell_type": "code",
   "execution_count": 30,
   "id": "8a891ff1",
   "metadata": {},
   "outputs": [],
   "source": [
    "##dropping unnecessary columns\n",
    "\n",
    "final_df_2011.drop(columns=[\n",
    "   \"HS_diploma_Men\",\n",
    "   \"Some_College_less1year_Men\",  \n",
    "   \"SomeCollege_1ormore_Men\",   \n",
    "   \"Associates_Men\",\n",
    "   \"Bachelors_Men\",\n",
    "   \"Masters_Men\",\n",
    "   \"Professional_Men\",\n",
    "   \"Doctorate_Men\",\n",
    "   \"HS_diploma_Women\",\n",
    "   \"Some_College_less1year_Women\",  \n",
    "   \"SomeCollege_1ormore_Women\",   \n",
    "   \"Associates_Women\",\n",
    "   \"Bachelors_Women\",\n",
    "   \"Masters_Women\", \n",
    "   \"Professional_Women\",\n",
    "   \"Doctorate_Women\"\n",
    "], inplace=True)"
   ]
  },
  {
   "cell_type": "code",
   "execution_count": 31,
   "id": "c3b00770-4f4d-4f09-b774-cedc8d4cb375",
   "metadata": {},
   "outputs": [],
   "source": [
    "##GED itself doesn't show up before 2012, but it's included in the data summed with hs education\n",
    "final_df_2011['GED'] = 0"
   ]
  },
  {
   "cell_type": "markdown",
   "id": "4f123782",
   "metadata": {},
   "source": [
    "### 2010 Data"
   ]
  },
  {
   "cell_type": "code",
   "execution_count": null,
   "id": "35af7b8b",
   "metadata": {},
   "outputs": [],
   "source": [
    "###error with employment status in 2010, so I will modify that"
   ]
  },
  {
   "cell_type": "markdown",
   "id": "506d76af",
   "metadata": {},
   "source": [
    "### Web-Scraping the 2010 Data"
   ]
  },
  {
   "cell_type": "code",
   "execution_count": 36,
   "id": "3a59dbaa",
   "metadata": {},
   "outputs": [],
   "source": [
    "#web-scraping using the 2010 data\n",
    "\n",
    "base_url_2010 = \"https://api.census.gov/data/2010/acs/acs5\"\n",
    "###get urls for variables (see code below for dictionary)\n",
    "params_2010 = {\n",
    "    \"get\": \",\".join([\n",
    "                    \"NAME\",\n",
    "                    \"B19013_001E\",\n",
    "                    \"B01003_001E\",\n",
    "                    \"B03002_001E\",\n",
    "                    \"B03002_012E\",\n",
    "                    \"B03002_004E\",\n",
    "                    \"B01001_001E\",\n",
    "                    \"B01001_026E\",\n",
    "                    #\"B23025_003E\",\n",
    "                    #\"B23025_005E\",\n",
    "                    \"B15002_011E\",\n",
    "                    \"B15002_012E\",  \n",
    "                    \"B15002_013E\",   \n",
    "                    \"B15002_014E\",\n",
    "                    \"B15002_015E\",\n",
    "                    \"B15002_016E\",\n",
    "                    \"B15002_017E\",\n",
    "                    \"B15002_018E\",\n",
    "                    \"B15002_028E\",\n",
    "                    \"B15002_029E\",  \n",
    "                    \"B15002_030E\",   \n",
    "                    \"B15002_031E\",\n",
    "                    \"B15002_032E\",\n",
    "                    \"B15002_033E\",\n",
    "                    \"B15002_034E\",\n",
    "                    \"B15002_035E\",\n",
    "                    \"B15002_001E\",\n",
    "                    \"B17001_001E\", #not in 2009\n",
    "                    \"B17001_002E\"\n",
    "    ]),\n",
    "    \"for\": \"county:*\",\n",
    "    \"in\": \"state:*\",\n",
    "    \"key\": mykey\n",
    "}"
   ]
  },
  {
   "cell_type": "code",
   "execution_count": 37,
   "id": "5e2f15c7",
   "metadata": {},
   "outputs": [
    {
     "data": {
      "text/plain": [
       "Index(['NAME', 'B19013_001E', 'B01003_001E', 'B03002_001E', 'B03002_012E',\n",
       "       'B03002_004E', 'B01001_001E', 'B01001_026E', 'B15002_011E',\n",
       "       'B15002_012E', 'B15002_013E', 'B15002_014E', 'B15002_015E',\n",
       "       'B15002_016E', 'B15002_017E', 'B15002_018E', 'B15002_028E',\n",
       "       'B15002_029E', 'B15002_030E', 'B15002_031E', 'B15002_032E',\n",
       "       'B15002_033E', 'B15002_034E', 'B15002_035E', 'B15002_001E',\n",
       "       'B17001_001E', 'B17001_002E', 'state', 'county', 'year'],\n",
       "      dtype='object')"
      ]
     },
     "execution_count": 37,
     "metadata": {},
     "output_type": "execute_result"
    }
   ],
   "source": [
    "response_2010 = requests.get(base_url_2010, params=params_2010)\n",
    "data_full_2010 = response_2010.json()\n",
    "\n",
    "if response_2010.status_code == 200:\n",
    "    data_temp_2010 = response_2010.json()\n",
    "    final_df_2010 = pd.DataFrame(data_temp_2010[1:], columns=data_temp_2010[0])  # Convert to DataFrame\n",
    "    final_df_2010[\"year\"] = 2010  # Add year column\n",
    "    \n",
    "else:\n",
    "    print(f\"Error {response_2010.status_code} for year 2010\")"
   ]
  },
  {
   "cell_type": "code",
   "execution_count": 38,
   "id": "80bd3fc8",
   "metadata": {},
   "outputs": [],
   "source": [
    "numeric_columns_2010 = ['B19013_001E', 'B01003_001E', 'B03002_001E', 'B03002_012E',\n",
    "       'B03002_004E', 'B01001_001E', 'B01001_026E', 'B15002_011E',\n",
    "       'B15002_012E', 'B15002_013E', 'B15002_014E', 'B15002_015E',\n",
    "       'B15002_016E', 'B15002_017E', 'B15002_018E', 'B15002_028E',\n",
    "       'B15002_029E', 'B15002_030E', 'B15002_031E', 'B15002_032E',\n",
    "       'B15002_033E', 'B15002_034E', 'B15002_035E', 'B15002_001E',\n",
    "       'B17001_001E', 'B17001_002E', 'state', 'county', 'year']"
   ]
  },
  {
   "cell_type": "code",
   "execution_count": 39,
   "id": "2438978b",
   "metadata": {},
   "outputs": [],
   "source": [
    "final_df_2010[numeric_columns_2010] = final_df_2010[numeric_columns_2010].apply(pd.to_numeric, errors='coerce')"
   ]
  },
  {
   "cell_type": "code",
   "execution_count": 40,
   "id": "bc50121d",
   "metadata": {},
   "outputs": [],
   "source": [
    "# Rename columns for clarity\n",
    "final_df_2010.rename(columns={\n",
    "    \"NAME\": \"County_Name\",\n",
    "    \"B19013_001E\": \"Median_Household_Income\",\n",
    "    \"B01003_001E\": \"Total_Population\",\n",
    "    \"B03002_001E\": \"Total_Race\",\n",
    "    \"B03002_012E\": \"Total_Hispanic_Population\",\n",
    "    \"B03002_004E\": \"Total_NonHispanic_Black_Population\",\n",
    "    \"B01001_001E\": \"Total_Population_Sex\",\n",
    "    \"B01001_026E\": \"Total_Female_Population\",\n",
    "    \"B15002_011E\":  \"HS_diploma_Men\",\n",
    "    \"B15002_012E\": \"Some_College_less1year_Men\",  \n",
    "    \"B15002_013E\": \"SomeCollege_1ormore_Men\",   \n",
    "    \"B15002_014E\": \"Associates_Men\",\n",
    "    \"B15002_015E\": \"Bachelors_Men\",\n",
    "    \"B15002_016E\": \"Masters_Men\",\n",
    "    \"B15002_017E\": \"Professional_Men\",\n",
    "    \"B15002_018E\": \"Doctorate_Men\",\n",
    "    \"B15002_028E\":  \"HS_diploma_Women\",\n",
    "    \"B15002_029E\": \"Some_College_less1year_Women\",  \n",
    "    \"B15002_030E\": \"SomeCollege_1ormore_Women\",   \n",
    "    \"B15002_031E\": \"Associates_Women\",\n",
    "    \"B15002_032E\": \"Bachelors_Women\",\n",
    "    \"B15002_033E\": \"Masters_Women\",\n",
    "    \"B15002_034E\": \"Professional_Women\",\n",
    "    \"B15002_035E\": \"Doctorate_Women\",\n",
    "    \"B15002_001E\": \"Totalpop_25_orolder\",\n",
    "    \"B17001_001E\": \"Poverty_Status_Total\", #not in 2009\n",
    "    \"B17001_002E\": \"Total_Below_Poverty\"\n",
    "}, inplace=True)\n"
   ]
  },
  {
   "cell_type": "markdown",
   "id": "081afb09",
   "metadata": {},
   "source": [
    "#### Getting Data For the Unemployed (Coded Differently in 2010)"
   ]
  },
  {
   "cell_type": "code",
   "execution_count": 42,
   "id": "f441a959",
   "metadata": {},
   "outputs": [],
   "source": [
    "params_2010_unemployed = {\n",
    "    \"get\": \",\".join([\n",
    "                    \"NAME\",\n",
    "                    \"B23001_008E\",\n",
    "                    \"B23001_015E\",\n",
    "                    \"B23001_022E\",\n",
    "                    \"B23001_029E\",\n",
    "                    \"B23001_036E\",\n",
    "                    \"B23001_043E\",\n",
    "                    \"B23001_050E\",\n",
    "                    \"B23001_057E\",\n",
    "                    \"B23001_064E\",\n",
    "                    \"B23001_071E\",\n",
    "                    \"B23001_076E\",\n",
    "                    \"B23001_081E\",\n",
    "                    \"B23001_086E\",\n",
    "                    \"B23001_094E\",\n",
    "                    \"B23001_101E\",\n",
    "                    \"B23001_108E\",\n",
    "                    \"B23001_115E\",\n",
    "                    \"B23001_122E\",\n",
    "                    \"B23001_129E\",\n",
    "                    \"B23001_136E\",\n",
    "                    \"B23001_143E\",\n",
    "                    \"B23001_150E\",\n",
    "                    \"B23001_157E\",\n",
    "                    \"B23001_162E\",\n",
    "                    \"B23001_167E\",\n",
    "                    \"B23001_172E\"\n",
    "    ]),\n",
    "    \"for\": \"county:*\",\n",
    "    \"in\": \"state:*\",\n",
    "    \"key\": mykey\n",
    "}"
   ]
  },
  {
   "cell_type": "code",
   "execution_count": 43,
   "id": "29bf1c28",
   "metadata": {},
   "outputs": [],
   "source": [
    "response_2010_unemployed = requests.get(base_url_2010, params=params_2010_unemployed)\n",
    "\n",
    "if response_2010_unemployed.status_code == 200:\n",
    "    data_2010_umemployed = response_2010_unemployed.json()\n",
    "    df_2010_unemployed = pd.DataFrame(data_2010_umemployed[1:], columns=data_2010_umemployed[0])  # Convert to DataFrame    \n",
    "else:\n",
    "    print(f\"Error {response_2010.status_code} for year 2010\")"
   ]
  },
  {
   "cell_type": "code",
   "execution_count": 44,
   "id": "8d5ad4ad",
   "metadata": {},
   "outputs": [],
   "source": [
    "numeric_columns_2010_unemployed = ['B23001_008E', 'B23001_015E', 'B23001_022E', 'B23001_029E',\n",
    "       'B23001_036E', 'B23001_043E', 'B23001_050E', 'B23001_057E',\n",
    "       'B23001_064E', 'B23001_071E', 'B23001_076E', 'B23001_081E',\n",
    "       'B23001_086E', 'B23001_094E', 'B23001_101E', 'B23001_108E',\n",
    "       'B23001_115E', 'B23001_122E', 'B23001_129E', 'B23001_136E',\n",
    "       'B23001_143E', 'B23001_150E', 'B23001_157E', 'B23001_162E',\n",
    "       'B23001_167E', 'B23001_172E', 'state', 'county']"
   ]
  },
  {
   "cell_type": "code",
   "execution_count": 45,
   "id": "65a9445d",
   "metadata": {},
   "outputs": [],
   "source": [
    "df_2010_unemployed[numeric_columns_2010_unemployed] = df_2010_unemployed[numeric_columns_2010_unemployed].apply(pd.to_numeric, errors='coerce')"
   ]
  },
  {
   "cell_type": "code",
   "execution_count": 46,
   "id": "96e0d1cc",
   "metadata": {},
   "outputs": [],
   "source": [
    "df_2010_unemployed.rename(columns={\n",
    "    \"NAME\": \"County_Name\",\n",
    "    \"B23001_008E\": \"Male_16_19_Unemployed_Civillian\",\n",
    "    \"B23001_015E\": \"Male_20_21_Unemployed_Civillian\",\n",
    "    \"B23001_022E\": \"Male_22_24_Unemployed_Civillian\",\n",
    "    \"B23001_029E\": \"Male_25_29_Unemployed_Civillian\",\n",
    "    \"B23001_036E\": \"Male_30_34_Unemployed_Civillian\",\n",
    "    \"B23001_043E\": \"Male_35_44_Unemployed_Civillian\",\n",
    "    \"B23001_050E\": \"Male_45_54_Unemployed_Civillian\",\n",
    "    \"B23001_057E\": \"Male_55_59_Unemployed_Civillian\",\n",
    "    \"B23001_064E\": \"Male_60_61_Unemployed_Civillian\",\n",
    "    \"B23001_071E\": \"Male_62_64_Unemployed_Civillian\",\n",
    "    \"B23001_076E\": \"Male_65_69_Unemployed_Civillian\",\n",
    "    \"B23001_081E\": \"Male_70_74_Unemployed_Civillian\",\n",
    "    \"B23001_086E\": \"Male_75_over_Unemployed_Civillian\",\n",
    "    \"B23001_094E\": \"Female_16_19_Unemployed_Civillian\",\n",
    "    \"B23001_101E\": \"Female_20_21_Unemployed_Civillian\",\n",
    "    \"B23001_108E\": \"Female_22_24_Unemployed_Civillian\",\n",
    "    \"B23001_115E\": \"Female_25_29_Unemployed_Civillian\",\n",
    "    \"B23001_122E\": \"Female_30_34_Unemployed_Civillian\",\n",
    "    \"B23001_129E\": \"Female_35_44_Unemployed_Civillian\",\n",
    "    \"B23001_136E\": \"Female_45_54_Unemployed_Civillian\",\n",
    "    \"B23001_143E\": \"Female_55_59_Unemployed_Civillian\",\n",
    "    \"B23001_150E\": \"Female_60_61_Unemployed_Civillian\",\n",
    "    \"B23001_157E\": \"Female_62_64_Unemployed_Civillian\",\n",
    "    \"B23001_162E\": \"Female_65_69_Unemployed_Civillian\",\n",
    "    \"B23001_167E\": \"Female_70_74_Unemployed_Civillian\",\n",
    "    \"B23001_172E\": \"Female_75_over_Unemployed_Civillian\"\n",
    "}, inplace=True)\n"
   ]
  },
  {
   "cell_type": "code",
   "execution_count": 47,
   "id": "6c4d165b",
   "metadata": {},
   "outputs": [],
   "source": [
    "df_2010_unemployed['Unemployed_Population'] = df_2010_unemployed.drop(columns=['state', 'county']).sum(axis=1, numeric_only=True)"
   ]
  },
  {
   "cell_type": "code",
   "execution_count": 48,
   "id": "88105dc4",
   "metadata": {},
   "outputs": [],
   "source": [
    "###creating a new data_frame with just name and total unemployed for easy merging\n",
    "\n",
    "unemployed_2010 = df_2010_unemployed[['County_Name', 'Unemployed_Population']]"
   ]
  },
  {
   "cell_type": "markdown",
   "id": "2e1d8730",
   "metadata": {},
   "source": [
    "#### Creating The Labor Force Varaible"
   ]
  },
  {
   "cell_type": "code",
   "execution_count": 49,
   "id": "3ea83208",
   "metadata": {
    "tags": []
   },
   "outputs": [],
   "source": [
    "params_2010_lf = {\n",
    "    \"get\": \",\".join([\n",
    "                   \"NAME\",\n",
    "                    \"B23001_006E\",\n",
    "                    \"B23001_013E\",\n",
    "                    \"B23001_020E\",\n",
    "                    \"B23001_027E\",\n",
    "                    \"B23001_034E\",\n",
    "                    \"B23001_041E\",\n",
    "                    \"B23001_048E\",\n",
    "                    \"B23001_055E\",\n",
    "                    \"B23001_062E\",\n",
    "                    \"B23001_069E\",\n",
    "                    \"B23001_074E\",\n",
    "                    \"B23001_079E\",\n",
    "                    \"B23001_084E\",\n",
    "                    \"B23001_092E\",\n",
    "                    \"B23001_099E\",\n",
    "                    \"B23001_106E\",\n",
    "                    \"B23001_113E\",\n",
    "                    \"B23001_120E\",\n",
    "                    \"B23001_127E\",\n",
    "                    \"B23001_134E\",\n",
    "                    \"B23001_141E\",\n",
    "                    \"B23001_148E\",\n",
    "                    \"B23001_155E\",\n",
    "                    \"B23001_160E\",\n",
    "                    \"B23001_165E\",\n",
    "                    \"B23001_170E\"\n",
    "    ]),\n",
    "    \"for\": \"county:*\",\n",
    "    \"in\": \"state:*\",\n",
    "    \"key\": mykey\n",
    "}"
   ]
  },
  {
   "cell_type": "code",
   "execution_count": 50,
   "id": "3e5d3752",
   "metadata": {},
   "outputs": [],
   "source": [
    "response_2010_lf = requests.get(base_url_2010, params=params_2010_lf)\n",
    "\n",
    "if response_2010_lf.status_code == 200:\n",
    "    data_2010_lf = response_2010_lf.json()\n",
    "    df_2010_lf = pd.DataFrame(data_2010_lf[1:], columns=data_2010_lf[0])  # Convert to DataFrame    \n",
    "else:\n",
    "    print(f\"Error {response_2010_lf.status_code} for year 2010\")"
   ]
  },
  {
   "cell_type": "code",
   "execution_count": 51,
   "id": "0a201dfc",
   "metadata": {},
   "outputs": [
    {
     "data": {
      "text/plain": [
       "Index(['NAME', 'B23001_006E', 'B23001_013E', 'B23001_020E', 'B23001_027E',\n",
       "       'B23001_034E', 'B23001_041E', 'B23001_048E', 'B23001_055E',\n",
       "       'B23001_062E', 'B23001_069E', 'B23001_074E', 'B23001_079E',\n",
       "       'B23001_084E', 'B23001_092E', 'B23001_099E', 'B23001_106E',\n",
       "       'B23001_113E', 'B23001_120E', 'B23001_127E', 'B23001_134E',\n",
       "       'B23001_141E', 'B23001_148E', 'B23001_155E', 'B23001_160E',\n",
       "       'B23001_165E', 'B23001_170E', 'state', 'county'],\n",
       "      dtype='object')"
      ]
     },
     "execution_count": 51,
     "metadata": {},
     "output_type": "execute_result"
    }
   ],
   "source": [
    "df_2010_lf.columns"
   ]
  },
  {
   "cell_type": "code",
   "execution_count": 52,
   "id": "c2da1ba1",
   "metadata": {},
   "outputs": [],
   "source": [
    "numeric_columns_2010_lf = ['B23001_006E', 'B23001_013E', 'B23001_020E', 'B23001_027E',\n",
    "       'B23001_034E', 'B23001_041E', 'B23001_048E', 'B23001_055E',\n",
    "       'B23001_062E', 'B23001_069E', 'B23001_074E', 'B23001_079E',\n",
    "       'B23001_084E', 'B23001_092E', 'B23001_099E', 'B23001_106E',\n",
    "       'B23001_113E', 'B23001_120E', 'B23001_127E', 'B23001_134E',\n",
    "       'B23001_141E', 'B23001_148E', 'B23001_155E', 'B23001_160E',\n",
    "       'B23001_165E', 'B23001_170E', 'state', 'county']"
   ]
  },
  {
   "cell_type": "code",
   "execution_count": 53,
   "id": "5ae49f51",
   "metadata": {},
   "outputs": [],
   "source": [
    "df_2010_lf[numeric_columns_2010_lf] = df_2010_lf[numeric_columns_2010_lf].apply(pd.to_numeric, errors='coerce')"
   ]
  },
  {
   "cell_type": "code",
   "execution_count": 54,
   "id": "f48df1ae",
   "metadata": {},
   "outputs": [],
   "source": [
    "df_2010_lf.rename(columns={\n",
    "    \"NAME\": \"County_Name\",\n",
    "    \"B23001_006E\": \"Male_16_19_LF_Civillian\",\n",
    "    \"B23001_013E\": \"Male_20_21_LF_Civillian\",\n",
    "    \"B23001_020E\": \"Male_22_24_LF_Civillian\",\n",
    "    \"B23001_027E\": \"Male_25_29_LF_Civillian\",\n",
    "    \"B23001_034E\": \"Male_30_34_LF_Civillian\",\n",
    "    \"B23001_041E\": \"Male_35_44_LF_Civillian\",\n",
    "    \"B23001_048E\": \"Male_45_54_LF_Civillian\",\n",
    "    \"B23001_055E\": \"Male_55_59_LF_Civillian\",\n",
    "    \"B23001_062E\": \"Male_60_61_LF_Civillian\",\n",
    "    \"B23001_069E\": \"Male_62_64_LF_Civillian\",\n",
    "    \"B23001_074E\": \"Male_65_69_LF_Civillian\",\n",
    "    \"B23001_079E\": \"Male_70_74_LF_Civillian\",\n",
    "    \"B23001_084E\": \"Male_75_over_LF_Civillian\",\n",
    "    \"B23001_092E\": \"Female_16_19_LF_Civillian\",\n",
    "    \"B23001_099E\": \"Female_20_21_LF_Civillian\",\n",
    "    \"B23001_106E\": \"Female_22_24_LF_Civillian\",\n",
    "    \"B23001_113E\": \"Female_25_29_LF_Civillian\",\n",
    "    \"B23001_120E\": \"Female_30_34_LF_Civillian\",\n",
    "    \"B23001_127E\": \"Female_35_44_LF_Civillian\",\n",
    "    \"B23001_134E\": \"Female_45_54_LF_Civillian\",\n",
    "    \"B23001_141E\": \"Female_55_59_LF_Civillian\",\n",
    "    \"B23001_148E\": \"Female_60_61_LF_Civillian\",\n",
    "    \"B23001_155E\": \"Female_62_64_LF_Civillian\",\n",
    "    \"B23001_160E\": \"Female_65_69_LF_Civillian\",\n",
    "    \"B23001_165E\": \"Female_70_74_LF_Civillian\",\n",
    "    \"B23001_170E\": \"Female_75_over_LF_Civillian\"\n",
    "}, inplace=True)"
   ]
  },
  {
   "cell_type": "code",
   "execution_count": 55,
   "id": "14b3d98e",
   "metadata": {},
   "outputs": [],
   "source": [
    "###creating labor force variable\n",
    "\n",
    "df_2010_lf['Labor_Force'] = df_2010_lf.drop(columns=['state', 'county']).sum(axis=1, numeric_only=True)\n",
    "lf_2010 = df_2010_lf[['County_Name', 'Labor_Force']]"
   ]
  },
  {
   "cell_type": "markdown",
   "id": "833dd951",
   "metadata": {},
   "source": [
    "### Merging Unemployment Data and Labor Force Data with rest of data (2010)"
   ]
  },
  {
   "cell_type": "code",
   "execution_count": 56,
   "id": "340d097b",
   "metadata": {},
   "outputs": [],
   "source": [
    "##creating employment dataframe\n",
    "\n",
    "df_2010_employment = pd.merge(unemployed_2010,lf_2010, on='County_Name', how='inner')\n",
    "\n"
   ]
  },
  {
   "cell_type": "code",
   "execution_count": 57,
   "id": "556824b5",
   "metadata": {},
   "outputs": [],
   "source": [
    "final_df_2010 = pd.merge(final_df_2010, df_2010_employment, on='County_Name', how = 'inner')"
   ]
  },
  {
   "cell_type": "code",
   "execution_count": 58,
   "id": "ce5928be-6e94-44fa-85d7-2f4c11cfb350",
   "metadata": {},
   "outputs": [
    {
     "data": {
      "text/plain": [
       "3221"
      ]
     },
     "execution_count": 58,
     "metadata": {},
     "output_type": "execute_result"
    }
   ],
   "source": [
    "final_df_2010['Median_Household_Income'].notna().sum()"
   ]
  },
  {
   "cell_type": "markdown",
   "id": "856b8592",
   "metadata": {},
   "source": [
    "### 2010 Calculations"
   ]
  },
  {
   "cell_type": "code",
   "execution_count": 59,
   "id": "b0933000",
   "metadata": {},
   "outputs": [],
   "source": [
    "### making column names consistent for 2012-2019\n",
    "\n",
    "final_df_2010['HS_diploma'] = final_df_2010['HS_diploma_Men'] + final_df_2010['HS_diploma_Women']\n",
    "final_df_2010['Some_College_less1year'] = final_df_2010['Some_College_less1year_Men'] + final_df_2010['Some_College_less1year_Women']\n",
    "final_df_2010['SomeCollege_1ormore'] = final_df_2010['SomeCollege_1ormore_Men'] + final_df_2010['SomeCollege_1ormore_Women']\n",
    "final_df_2010['Associates'] = final_df_2010['Associates_Men'] + final_df_2010['Associates_Women']\n",
    "final_df_2010['Bachelors'] = final_df_2010['Bachelors_Men'] + final_df_2010['Bachelors_Women']\n",
    "final_df_2010['Masters'] = final_df_2010['Masters_Men'] + final_df_2010['Masters_Women']\n",
    "final_df_2010['Professional'] = final_df_2010['Professional_Men'] + final_df_2010['Professional_Women']\n",
    "final_df_2010['Doctorate'] = final_df_2010['Doctorate_Men'] + final_df_2010['Doctorate_Women']"
   ]
  },
  {
   "cell_type": "code",
   "execution_count": 60,
   "id": "832e0536",
   "metadata": {},
   "outputs": [],
   "source": [
    "##dropping unnecessary columns\n",
    "\n",
    "final_df_2010.drop(columns=[\n",
    "   \"HS_diploma_Men\",\n",
    "   \"Some_College_less1year_Men\",  \n",
    "   \"SomeCollege_1ormore_Men\",   \n",
    "   \"Associates_Men\",\n",
    "   \"Bachelors_Men\",\n",
    "   \"Masters_Men\",\n",
    "   \"Professional_Men\",\n",
    "   \"Doctorate_Men\",\n",
    "   \"HS_diploma_Women\",\n",
    "   \"Some_College_less1year_Women\",  \n",
    "   \"SomeCollege_1ormore_Women\",   \n",
    "   \"Associates_Women\",\n",
    "   \"Bachelors_Women\",\n",
    "   \"Masters_Women\", \n",
    "   \"Professional_Women\",\n",
    "   \"Doctorate_Women\"\n",
    "], inplace=True)"
   ]
  },
  {
   "cell_type": "code",
   "execution_count": 61,
   "id": "fb4ca971-fc6a-4a49-8efa-fc7cefc03d1f",
   "metadata": {},
   "outputs": [],
   "source": [
    "final_df_2010['GED'] = 0"
   ]
  },
  {
   "cell_type": "code",
   "execution_count": 62,
   "id": "e24de1d5",
   "metadata": {},
   "outputs": [
    {
     "data": {
      "text/plain": [
       "Index(['County_Name', 'Median_Household_Income', 'Total_Population',\n",
       "       'Total_Race', 'Total_Hispanic_Population',\n",
       "       'Total_NonHispanic_Black_Population', 'Total_Population_Sex',\n",
       "       'Total_Female_Population', 'Totalpop_25_orolder',\n",
       "       'Poverty_Status_Total', 'Total_Below_Poverty', 'state', 'county',\n",
       "       'year', 'Unemployed_Population', 'Labor_Force', 'HS_diploma',\n",
       "       'Some_College_less1year', 'SomeCollege_1ormore', 'Associates',\n",
       "       'Bachelors', 'Masters', 'Professional', 'Doctorate', 'GED'],\n",
       "      dtype='object')"
      ]
     },
     "execution_count": 62,
     "metadata": {},
     "output_type": "execute_result"
    }
   ],
   "source": [
    "final_df_2010.columns"
   ]
  },
  {
   "cell_type": "markdown",
   "id": "0b548495-7110-4526-b656-4e381799975b",
   "metadata": {},
   "source": [
    "## merging 2012-2019 data with 2011 and 2010"
   ]
  },
  {
   "cell_type": "code",
   "execution_count": 63,
   "id": "22205932-7d9a-4459-9919-fbf8b3708679",
   "metadata": {},
   "outputs": [],
   "source": [
    "all_dfs = [final_df, final_df_2011, final_df_2010]"
   ]
  },
  {
   "cell_type": "code",
   "execution_count": 64,
   "id": "f2a9dcb3-4dcd-4f56-a6bd-ac1ee567430b",
   "metadata": {},
   "outputs": [],
   "source": [
    "full_df = pd.concat(all_dfs, ignore_index=True)"
   ]
  },
  {
   "cell_type": "markdown",
   "id": "03cbff5b",
   "metadata": {},
   "source": [
    "### Doing calculations for data"
   ]
  },
  {
   "cell_type": "code",
   "execution_count": 65,
   "id": "f4db043a",
   "metadata": {},
   "outputs": [],
   "source": [
    "# Calculate additional metrics\n",
    "full_df[\"Percent_Hispanic\"] = (full_df[\"Total_Hispanic_Population\"] / full_df[\"Total_Race\"]) * 100\n",
    "full_df[\"Percent_NonHispanic_Black\"] = (full_df[\"Total_NonHispanic_Black_Population\"] / full_df[\"Total_Race\"]) * 100\n",
    "full_df[\"Percent_Unemployed\"] = (full_df[\"Unemployed_Population\"] / full_df[\"Labor_Force\"]) * 100\n",
    "full_df[\"Percent_Female\"] = (full_df[\"Total_Female_Population\"] / full_df[\"Total_Population_Sex\"]) * 100\n",
    "full_df[\"Percent_Below_Poverty\"] = (full_df[\"Total_Below_Poverty\"] / full_df[\"Poverty_Status_Total\"]) * 100\n",
    "\n",
    "\n",
    "full_df[\"HS_Graduates\"] = (full_df[\"HS_diploma\"] + full_df[\"GED\"] +\n",
    "                           full_df[\"Some_College_less1year\"] + full_df[\"SomeCollege_1ormore\"] + full_df[\"Associates\"] +\n",
    "                           full_df[\"Bachelors\"] + full_df[\"Masters\"] +\n",
    "                           full_df[\"Professional\"] + full_df[\"Doctorate\"]\n",
    "                          )\n",
    "full_df[\"College_Graduates\"] = (full_df[\"Bachelors\"] + full_df[\"Masters\"] +\n",
    "                                full_df[\"Professional\"] + full_df[\"Doctorate\"]\n",
    "                               )\n",
    "\n",
    "full_df[\"Percent_HS\"] = (full_df[\"HS_Graduates\"] / full_df[\"Totalpop_25_orolder\"]) * 100\n",
    "full_df[\"Percent_College\"] = (full_df[\"College_Graduates\"] / full_df[\"Totalpop_25_orolder\"]) * 100\n",
    "full_df[\"fips\"] = (full_df['state']*1000) + full_df['county']"
   ]
  },
  {
   "cell_type": "code",
   "execution_count": 66,
   "id": "cc3f19cf",
   "metadata": {},
   "outputs": [],
   "source": [
    "##keeping the dataframe only with necessary columns\n",
    "\n",
    "export_df_columns = ['County_Name', 'Median_Household_Income', 'Total_Population',\n",
    "       'year', 'Percent_Hispanic',\n",
    "       'Percent_NonHispanic_Black', 'Percent_Unemployed', 'Percent_Female',\n",
    "       'Percent_Below_Poverty', \n",
    "       'Percent_HS', 'Percent_College', 'fips']\n",
    "\n",
    "export_df = full_df[export_df_columns].copy()"
   ]
  },
  {
   "cell_type": "code",
   "execution_count": 68,
   "id": "9d00c6bd-a5f2-4230-b8da-e5854dfdf522",
   "metadata": {},
   "outputs": [],
   "source": [
    "##code that saves the sample county characteristics from the ACS data from 2010-2019 as a CSV file\n",
    "\n",
    "# export_df.to_csv('sample_county_characteristics.csv')"
   ]
  }
 ],
 "metadata": {
  "kernelspec": {
   "display_name": "Python 3",
   "language": "python",
   "name": "python3"
  },
  "language_info": {
   "codemirror_mode": {
    "name": "ipython",
    "version": 3
   },
   "file_extension": ".py",
   "mimetype": "text/x-python",
   "name": "python",
   "nbconvert_exporter": "python",
   "pygments_lexer": "ipython3",
   "version": "3.8.5"
  }
 },
 "nbformat": 4,
 "nbformat_minor": 5
}
