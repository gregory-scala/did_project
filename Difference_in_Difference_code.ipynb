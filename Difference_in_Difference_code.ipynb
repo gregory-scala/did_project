{
 "cells": [
  {
   "cell_type": "markdown",
   "id": "64efc5cf-d655-4e9c-a403-259e215ab1f5",
   "metadata": {},
   "source": [
    "# Effect of Double Quaity Bonues in Medicare Advantage plans \n",
    "\n",
    "## Brief Background\n",
    "\n",
    "This analysis examines the effect of double quality bonuses in select counties on the benefit offerings in Medicare Advantage plans.\n",
    "\n",
    "The Medicare Advantage Quality Bonus Program (QBP) took effect in 2012 as part of an effort to improve the quality of Medicare Advantage plans. As part of the Medicare Advantage QBP, health insurance companies offering Medicare Advantage plans are eligible for double quality bonuses in certain counties if the counties meet the following criteria.\n",
    "\n",
    "- Located in a Metropolitan Statistical Area (MSA) of at least 250,000 people\n",
    "- Below-average Fee-for-Service (FFS) Medicare spending\n",
    "- At least 25% of Medicare eligibiles enrolling in Medicare Advantage plans.\n",
    "\n",
    "One important feature to note is that, in 2015, the Quality Bonus Program underwent major changes such as limiting the payments that firms could receive\n",
    "\n",
    "While previous literature has not found evidence of double-bonuses improving plan-quality, there is no previous work analyzing the effect of this program on the supplemental benefits offered by Medicare Advantage plans. Previous work, such as Scala (2024), finds that individuals do value the supplemental benefits offered in Medicare Advantage plans\n",
    "\n",
    "In prior analysis, I used data on Medicare Advantage benchmarks to determine if a county was double-bonus eligible, and calculated the fraction of Medicare Advantage plans offered in each county from 2007-2019 that included supplemental benefits such as dental coverage, eyewear coverage, and hearing aid coverage, as well as the average premiums and specialist copays among other variables in each county-year. I also collected county-year-level characteristics from the 2009-2019 ACS five-year estimates, and the 2007-2008 ACS three-year estimates.\n",
    "\n",
    "I define county $j$ as being treated at time $t$ if it is double-bonus eligible at time $t$.\n",
    "## This Analysis\n",
    "\n",
    "\n",
    "In previous code, I identified every county that was double-bonus eligible (385) using Medicare Advantage ratebook files, and randomly select 400 counties that are not double-bonus eligible. I uploaded data to this repository from these 785 counties from 2007-2019.   \n",
    "\n",
    "I perform the following analysis:\n",
    "\n",
    "- Summarize the treatment status of counties from 2012 onward.\n",
    "- Calculate Difference-in-Differences estimates to examine the effect of treatment on the fraction of plans in counties offering dental coverage, eyewear coverage, and hearing aids coverage.\n",
    "\n",
    "\n",
    "Difference-in-Difference estimates from this subset of counties show that double-bonus eligibility significantly increases the likelihood plans in eligible counties offer dental coverage, has a marginally significant effect (at the 10% level) on the fraction of plans offering eyewear coverage, and does not have a significant effect on the fraction of plans in a county offering hearing aids coverage. \n",
    "\n",
    "### Post-Analysis (outside of this code)\n",
    "\n",
    "Note, since counties can move in-and-out of treatment, a better estimator, and the one I use in the paper, would be the estimator from De Chaisemartin and D'Haultfoeuille (2019). However, this estimator does not currently have a built-in package in Python as of this writing. Stata code to perform this analysis is available upon request."
   ]
  },
  {
   "cell_type": "code",
   "execution_count": 215,
   "id": "a1ea67da-12e1-43ed-81dd-041b29356122",
   "metadata": {},
   "outputs": [],
   "source": [
    "import os \n",
    "import pandas as pd\n",
    "import numpy as np\n",
    "from functools import reduce\n",
    "import pickle\n",
    "import statsmodels.api as sm\n",
    "import matplotlib.pyplot as plt\n"
   ]
  },
  {
   "cell_type": "code",
   "execution_count": 88,
   "id": "9082abb5-dcfe-41cd-9f34-86b277ef80a6",
   "metadata": {},
   "outputs": [],
   "source": [
    "####actual files redacted due to file size \n",
    "\n",
    "aggregated_data = pd.read_csv('data/aggregated_sample_data.csv')"
   ]
  },
  {
   "cell_type": "code",
   "execution_count": 89,
   "id": "54fabffa-0c2f-486f-8786-b2090144d609",
   "metadata": {},
   "outputs": [],
   "source": [
    "aggregated_data['year'] = aggregated_data['year'].astype(int)"
   ]
  },
  {
   "cell_type": "code",
   "execution_count": 90,
   "id": "4bafc4e9-836f-423c-a27c-3f5b58c8234f",
   "metadata": {},
   "outputs": [
    {
     "data": {
      "text/plain": [
       "(9297, 23)"
      ]
     },
     "execution_count": 90,
     "metadata": {},
     "output_type": "execute_result"
    }
   ],
   "source": []
  },
  {
   "cell_type": "markdown",
   "id": "59e7bcc8-0532-4396-9333-ca06dc7b7ec1",
   "metadata": {},
   "source": [
    "## Create a table summarizing the treatment status"
   ]
  },
  {
   "cell_type": "code",
   "execution_count": 91,
   "id": "ecc8fd9f-cd82-4dd2-9451-7044ab9fc1c3",
   "metadata": {},
   "outputs": [],
   "source": [
    "### creating a lagged treatment variable\n",
    "\n",
    "aggregated_data_sorted = aggregated_data.sort_values(['county_encoded','year'])\n",
    "aggregated_data_sorted['lag_treated'] = aggregated_data_sorted.groupby('county_encoded')['treated'].shift(1)"
   ]
  },
  {
   "cell_type": "code",
   "execution_count": 98,
   "id": "503c0535-631b-4951-953a-49ee8c56d83b",
   "metadata": {},
   "outputs": [
    {
     "data": {
      "text/html": [
       "<div>\n",
       "<style scoped>\n",
       "    .dataframe tbody tr th:only-of-type {\n",
       "        vertical-align: middle;\n",
       "    }\n",
       "\n",
       "    .dataframe tbody tr th {\n",
       "        vertical-align: top;\n",
       "    }\n",
       "\n",
       "    .dataframe thead th {\n",
       "        text-align: right;\n",
       "    }\n",
       "</style>\n",
       "<table border=\"1\" class=\"dataframe\">\n",
       "  <thead>\n",
       "    <tr style=\"text-align: right;\">\n",
       "      <th></th>\n",
       "      <th>year</th>\n",
       "      <th>lag_treated</th>\n",
       "    </tr>\n",
       "  </thead>\n",
       "  <tbody>\n",
       "    <tr>\n",
       "      <th>157</th>\n",
       "      <td>2012</td>\n",
       "      <td>0.0</td>\n",
       "    </tr>\n",
       "    <tr>\n",
       "      <th>158</th>\n",
       "      <td>2013</td>\n",
       "      <td>0.0</td>\n",
       "    </tr>\n",
       "    <tr>\n",
       "      <th>159</th>\n",
       "      <td>2014</td>\n",
       "      <td>1.0</td>\n",
       "    </tr>\n",
       "    <tr>\n",
       "      <th>160</th>\n",
       "      <td>2015</td>\n",
       "      <td>1.0</td>\n",
       "    </tr>\n",
       "    <tr>\n",
       "      <th>161</th>\n",
       "      <td>2016</td>\n",
       "      <td>1.0</td>\n",
       "    </tr>\n",
       "    <tr>\n",
       "      <th>...</th>\n",
       "      <td>...</td>\n",
       "      <td>...</td>\n",
       "    </tr>\n",
       "    <tr>\n",
       "      <th>8694</th>\n",
       "      <td>2015</td>\n",
       "      <td>1.0</td>\n",
       "    </tr>\n",
       "    <tr>\n",
       "      <th>8695</th>\n",
       "      <td>2016</td>\n",
       "      <td>0.0</td>\n",
       "    </tr>\n",
       "    <tr>\n",
       "      <th>8696</th>\n",
       "      <td>2017</td>\n",
       "      <td>0.0</td>\n",
       "    </tr>\n",
       "    <tr>\n",
       "      <th>8697</th>\n",
       "      <td>2018</td>\n",
       "      <td>0.0</td>\n",
       "    </tr>\n",
       "    <tr>\n",
       "      <th>8698</th>\n",
       "      <td>2019</td>\n",
       "      <td>0.0</td>\n",
       "    </tr>\n",
       "  </tbody>\n",
       "</table>\n",
       "<p>5960 rows × 2 columns</p>\n",
       "</div>"
      ],
      "text/plain": [
       "      year  lag_treated\n",
       "157   2012          0.0\n",
       "158   2013          0.0\n",
       "159   2014          1.0\n",
       "160   2015          1.0\n",
       "161   2016          1.0\n",
       "...    ...          ...\n",
       "8694  2015          1.0\n",
       "8695  2016          0.0\n",
       "8696  2017          0.0\n",
       "8697  2018          0.0\n",
       "8698  2019          0.0\n",
       "\n",
       "[5960 rows x 2 columns]"
      ]
     },
     "execution_count": 98,
     "metadata": {},
     "output_type": "execute_result"
    }
   ],
   "source": [
    "aggregated_data_sorted[['year', 'lag_treated']].query(\"year > 2011\")"
   ]
  },
  {
   "cell_type": "code",
   "execution_count": 110,
   "id": "3501eca2-bb9b-4860-8345-80dfe1235220",
   "metadata": {},
   "outputs": [],
   "source": []
  },
  {
   "cell_type": "code",
   "execution_count": 117,
   "id": "6efbb2a8-213f-45e4-b6a4-14fa67a76d06",
   "metadata": {},
   "outputs": [],
   "source": [
    "### creating a variable that describes treatment status \n",
    "aggregated_data_sorted['treated_detailed'] = pd.NA\n",
    "\n",
    "aggregated_data_sorted.loc[(aggregated_data_sorted['treated'] == 0) & (aggregated_data_sorted['lag_treated'] == 0), 'treated_detailed'] = 0 #stays untreated\n",
    "aggregated_data_sorted.loc[(aggregated_data_sorted['treated'] == 1) & (aggregated_data_sorted['lag_treated'] == 1), 'treated_detailed'] = 1 #stays treated\n",
    "aggregated_data_sorted.loc[(aggregated_data_sorted['treated'] == 1) & (aggregated_data_sorted['lag_treated'] == 0), 'treated_detailed'] = 2 #becomes treated\n",
    "aggregated_data_sorted.loc[(aggregated_data_sorted['treated'] == 0) & (aggregated_data_sorted['lag_treated'] == 1), 'treated_detailed'] = 3 #becomes untreated\n",
    "aggregated_data_sorted.loc[(aggregated_data_sorted['treated'].isna()), 'treat_detailed'] = 97 #missing greatment data\n",
    "aggregated_data_sorted.loc[aggregated_data_sorted['treated'].notna() & aggregated_data_sorted['lag_treated'].isna(), 'treated_detailed'] = 98  # lag missing\n",
    "aggregated_data_sorted.loc[aggregated_data_sorted['year'] < 2012, 'treat_detailed'] = 99  # before treatment"
   ]
  },
  {
   "cell_type": "code",
   "execution_count": 123,
   "id": "0e8a151b-9c69-4df3-9c8e-dd9e07d8d28d",
   "metadata": {},
   "outputs": [],
   "source": [
    "##creating treatment labels\n",
    "treatment_labels = {\n",
    "    0: \"county stays untreated\",\n",
    "    1: \"county stays treated\",\n",
    "    2: \"county becomes treated\",\n",
    "    3: \"county leaves treatment\",\n",
    "    97: \"treatment data missing\",\n",
    "    98: \"lag treatment data missing\",\n",
    "    99: \"before treatment\"\n",
    "}\n",
    "\n",
    "aggregated_data_sorted['treated_detailed_labeled'] = aggregated_data_sorted['treated_detailed'].map(treatment_labels)"
   ]
  },
  {
   "cell_type": "code",
   "execution_count": 124,
   "id": "270d6b7c-0631-4a00-80ad-7cf85ba3849b",
   "metadata": {},
   "outputs": [],
   "source": [
    "tab_labeled = pd.crosstab(aggregated_data_sorted.loc[aggregated_data_sorted['year'] > 2011, 'treated_detailed_labeled'], \n",
    "                          aggregated_data_sorted.loc[aggregated_data_sorted['year'] > 2011, 'year'])"
   ]
  },
  {
   "cell_type": "code",
   "execution_count": 126,
   "id": "285311d2-1f0a-4848-8136-a5ee4c1641e7",
   "metadata": {},
   "outputs": [
    {
     "data": {
      "text/html": [
       "<div>\n",
       "<style scoped>\n",
       "    .dataframe tbody tr th:only-of-type {\n",
       "        vertical-align: middle;\n",
       "    }\n",
       "\n",
       "    .dataframe tbody tr th {\n",
       "        vertical-align: top;\n",
       "    }\n",
       "\n",
       "    .dataframe thead th {\n",
       "        text-align: right;\n",
       "    }\n",
       "</style>\n",
       "<table border=\"1\" class=\"dataframe\">\n",
       "  <thead>\n",
       "    <tr style=\"text-align: right;\">\n",
       "      <th>year</th>\n",
       "      <th>2012</th>\n",
       "      <th>2013</th>\n",
       "      <th>2014</th>\n",
       "      <th>2015</th>\n",
       "      <th>2016</th>\n",
       "      <th>2017</th>\n",
       "      <th>2018</th>\n",
       "      <th>2019</th>\n",
       "    </tr>\n",
       "    <tr>\n",
       "      <th>treated_detailed_labeled</th>\n",
       "      <th></th>\n",
       "      <th></th>\n",
       "      <th></th>\n",
       "      <th></th>\n",
       "      <th></th>\n",
       "      <th></th>\n",
       "      <th></th>\n",
       "      <th></th>\n",
       "    </tr>\n",
       "  </thead>\n",
       "  <tbody>\n",
       "    <tr>\n",
       "      <th>county becomes treated</th>\n",
       "      <td>224</td>\n",
       "      <td>47</td>\n",
       "      <td>79</td>\n",
       "      <td>14</td>\n",
       "      <td>15</td>\n",
       "      <td>26</td>\n",
       "      <td>12</td>\n",
       "      <td>10</td>\n",
       "    </tr>\n",
       "    <tr>\n",
       "      <th>county leaves treatment</th>\n",
       "      <td>0</td>\n",
       "      <td>9</td>\n",
       "      <td>41</td>\n",
       "      <td>209</td>\n",
       "      <td>16</td>\n",
       "      <td>31</td>\n",
       "      <td>35</td>\n",
       "      <td>22</td>\n",
       "    </tr>\n",
       "    <tr>\n",
       "      <th>county stays treated</th>\n",
       "      <td>0</td>\n",
       "      <td>215</td>\n",
       "      <td>215</td>\n",
       "      <td>79</td>\n",
       "      <td>77</td>\n",
       "      <td>61</td>\n",
       "      <td>53</td>\n",
       "      <td>43</td>\n",
       "    </tr>\n",
       "    <tr>\n",
       "      <th>county stays untreated</th>\n",
       "      <td>553</td>\n",
       "      <td>503</td>\n",
       "      <td>419</td>\n",
       "      <td>437</td>\n",
       "      <td>633</td>\n",
       "      <td>608</td>\n",
       "      <td>625</td>\n",
       "      <td>649</td>\n",
       "    </tr>\n",
       "  </tbody>\n",
       "</table>\n",
       "</div>"
      ],
      "text/plain": [
       "year                      2012  2013  2014  2015  2016  2017  2018  2019\n",
       "treated_detailed_labeled                                                \n",
       "county becomes treated     224    47    79    14    15    26    12    10\n",
       "county leaves treatment      0     9    41   209    16    31    35    22\n",
       "county stays treated         0   215   215    79    77    61    53    43\n",
       "county stays untreated     553   503   419   437   633   608   625   649"
      ]
     },
     "execution_count": 126,
     "metadata": {},
     "output_type": "execute_result"
    }
   ],
   "source": [
    "###visualizing the treatment status by county and year\n",
    "\n",
    "tab_labeled"
   ]
  },
  {
   "cell_type": "markdown",
   "id": "f1c3efb0-65f3-47e9-a930-977630df7363",
   "metadata": {},
   "source": [
    "## Difference-in-Difference Estimation"
   ]
  },
  {
   "cell_type": "code",
   "execution_count": 128,
   "id": "36d95367-4150-4049-b6ad-8398b98f63c2",
   "metadata": {},
   "outputs": [
    {
     "data": {
      "text/plain": [
       "Index(['Unnamed: 0', 'county_year', 'eyewear_coverage_indicator',\n",
       "       'monthlyconsolidatedpremiumi', 'dental_coverage_indicator',\n",
       "       'hearing_aides_coverage_indicator', 'treated', 'untreated', 'excluded',\n",
       "       'persistent_treated', 'persistent_excluded', 'year',\n",
       "       'specialist_min_copay', 'county_encoded', 'Median_Household_Income',\n",
       "       'Total_Population', 'Percent_Hispanic', 'Percent_NonHispanic_Black',\n",
       "       'Percent_Unemployed', 'Percent_Female', 'Percent_Below_Poverty',\n",
       "       'Percent_HS', 'Percent_College', 'lag_treated', 'treat_detailed',\n",
       "       'treated_detailed', 'treat_detailed_label', 'treated_detailed_labeled'],\n",
       "      dtype='object')"
      ]
     },
     "execution_count": 128,
     "metadata": {},
     "output_type": "execute_result"
    }
   ],
   "source": [
    "aggregated_data_sorted.columns"
   ]
  },
  {
   "cell_type": "code",
   "execution_count": 155,
   "id": "91b088c8-0530-449f-a561-84f8746b0f6b",
   "metadata": {},
   "outputs": [],
   "source": [
    "###keeping data without na values for these variables \n",
    "\n",
    "aggregated_data_demo = aggregated_data_sorted[['treated', 'dental_coverage_indicator', 'eyewear_coverage_indicator',\n",
    "                                           'Median_Household_Income','hearing_aides_coverage_indicator', 'monthlyconsolidatedpremiumi', 'county_encoded',\n",
    "                                           'Total_Population', 'Percent_Hispanic', 'Percent_NonHispanic_Black','year',\n",
    "                                           'Percent_Unemployed', 'Percent_Female', 'Percent_Below_Poverty',\n",
    "                                           'Percent_HS']]"
   ]
  },
  {
   "cell_type": "code",
   "execution_count": 168,
   "id": "ce5463ef-cb32-4fad-84ab-2f4ad3f70916",
   "metadata": {},
   "outputs": [
    {
     "name": "stdout",
     "output_type": "stream",
     "text": [
      "treated                               0\n",
      "dental_coverage_indicator             1\n",
      "eyewear_coverage_indicator            1\n",
      "Median_Household_Income               0\n",
      "hearing_aides_coverage_indicator      1\n",
      "monthlyconsolidatedpremiumi           0\n",
      "county_encoded                        0\n",
      "Total_Population                      0\n",
      "Percent_Hispanic                    494\n",
      "Percent_NonHispanic_Black           494\n",
      "year                                  0\n",
      "Percent_Unemployed                   96\n",
      "Percent_Female                        0\n",
      "Percent_Below_Poverty                 0\n",
      "Percent_HS                            1\n",
      "dtype: int64\n",
      "treated                             0\n",
      "dental_coverage_indicator           1\n",
      "eyewear_coverage_indicator          1\n",
      "Median_Household_Income             0\n",
      "hearing_aides_coverage_indicator    1\n",
      "monthlyconsolidatedpremiumi         0\n",
      "county_encoded                      0\n",
      "Total_Population                    0\n",
      "Percent_Hispanic                    0\n",
      "Percent_NonHispanic_Black           0\n",
      "year                                0\n",
      "Percent_Unemployed                  0\n",
      "Percent_Female                      0\n",
      "Percent_Below_Poverty               0\n",
      "Percent_HS                          0\n",
      "dtype: int64\n"
     ]
    }
   ],
   "source": [
    "###finding the sum of missing values by columns\n",
    "\n",
    "missing_data_info = aggregated_data_demo.isna().sum()\n",
    "missing_data_info_post09 = aggregated_data_demo[aggregated_data_demo['year'] >= 2009].isna().sum()\n",
    "print(missing_data_info)\n",
    "print(missing_data_info_post09)"
   ]
  },
  {
   "cell_type": "markdown",
   "id": "1194b3d9-c5af-47e5-9502-b329d0594d1e",
   "metadata": {},
   "source": [
    "Most of the missing data is from years 2007-2008, where I use ACS 3 year estimates instead of five year estimates. The ACS three-year estimates cover less counties than the five-year estimates. "
   ]
  },
  {
   "cell_type": "code",
   "execution_count": 170,
   "id": "c37522a8-73fd-4c12-be6f-74464e4061d1",
   "metadata": {},
   "outputs": [
    {
     "name": "stdout",
     "output_type": "stream",
     "text": [
      "(9297, 15)\n",
      "(8800, 15)\n"
     ]
    }
   ],
   "source": [
    "##dropping missing data\n",
    "\n",
    "aggregated_data_demo_nona = aggregated_data_demo.dropna()\n",
    "print(aggregated_data_demo.shape)\n",
    "print(aggregated_data_demo_nona.shape)"
   ]
  },
  {
   "cell_type": "code",
   "execution_count": 186,
   "id": "a41d3736-e335-4475-86a0-55c4a25a5042",
   "metadata": {},
   "outputs": [],
   "source": [
    "y1 = aggregated_data_demo_nona[['dental_coverage_indicator']]\n",
    "y2 = aggregated_data_demo_nona[['eyewear_coverage_indicator']]\n",
    "y3 = aggregated_data_demo_nona[['hearing_aides_coverage_indicator']]\n",
    "# y4 = aggregated_data_demo_nona[['monthlyconsolidatedpremiumi']]\n",
    "\n",
    "#getting county fixed effects\n",
    "county_fixed_effects = pd.get_dummies(aggregated_data_demo_nona['county_encoded'], prefix='county', drop_first = True)\n",
    "\n",
    "#getting year_fixed_effects \n",
    "year_fixed_effects = pd.get_dummies(aggregated_data_demo_nona['year'], prefix='year', drop_first = True)\n",
    "\n",
    "\n",
    "\n",
    "X_nocons = aggregated_data_demo_nona[['treated',\n",
    "                                   'Median_Household_Income',\n",
    "                                   'Total_Population', 'Percent_Hispanic', 'Percent_NonHispanic_Black',\n",
    "                                   'Percent_Unemployed', 'Percent_Female', 'Percent_Below_Poverty',\n",
    "                                   'Percent_HS']]\n",
    "\n",
    "##combining the datasets\n",
    "full_controls_nocons = pd.concat([X_nocons, county_fixed_effects, year_fixed_effects], axis = 1)\n",
    "\n",
    "##adding constant to x variables\n",
    "full_controls = sm.add_constant(full_controls_nocons).astype(float)\n",
    "\n",
    "##cluster standard errors at county level\n",
    "cluster = aggregated_data_demo_nona['county_encoded']"
   ]
  },
  {
   "cell_type": "code",
   "execution_count": 192,
   "id": "23824a0a-bc22-495c-9089-8842ba048b81",
   "metadata": {},
   "outputs": [],
   "source": [
    "model_dental = sm.OLS(y1, full_controls).fit(cov_type = 'cluster', cov_kwds={'groups': cluster})\n",
    "model_eyewear = sm.OLS(y2, full_controls).fit(cov_type = 'cluster', cov_kwds={'groups': cluster})\n",
    "model_hearing = sm.OLS(y3, full_controls).fit(cov_type = 'cluster', cov_kwds={'groups': cluster})"
   ]
  },
  {
   "cell_type": "code",
   "execution_count": 201,
   "id": "9408dac2-622f-4483-9bd6-22739652b11a",
   "metadata": {},
   "outputs": [
    {
     "name": "stdout",
     "output_type": "stream",
     "text": [
      "0.026238385165437986\n",
      "0.006817217838633494\n",
      "0.00749348676182357\n"
     ]
    }
   ],
   "source": [
    "print(model_dental.params['treated'])\n",
    "print(model_eyewear.bse['treated'])\n",
    "print(model_hearing.bse['treated'])"
   ]
  },
  {
   "cell_type": "markdown",
   "id": "319783b3-fb5c-4579-8dd2-36c5c7aa71c5",
   "metadata": {},
   "source": [
    "### Creating Coefficient Plots with 95% confidence intervals for Dental, Vision, and Hearing Aids Coverage"
   ]
  },
  {
   "cell_type": "code",
   "execution_count": 202,
   "id": "d3676154-6337-41e8-9b8a-6df43879d953",
   "metadata": {},
   "outputs": [],
   "source": [
    "### creating function that gives coefficient, and std errors for 95% confidence intervals\n",
    "\n",
    "def basic_regression_stats(model, variable, percent):\n",
    "    \n",
    "    coefficient = model.params[variable]\n",
    "    se = model.bse[variable]\n",
    "    conf_int = model.conf_int(alpha=1-percent).loc[variable]\n",
    "    \n",
    "    return coefficient, se, conf_int[0], conf_int[1]"
   ]
  },
  {
   "cell_type": "code",
   "execution_count": 237,
   "id": "71ae489a-84aa-4856-906c-262621ce4e89",
   "metadata": {},
   "outputs": [],
   "source": [
    "dental_stats = basic_regression_stats(model_dental, 'treated', 0.95)\n",
    "eyewear_stats = basic_regression_stats(model_eyewear, 'treated', 0.95)\n",
    "hearing_stats = basic_regression_stats(model_hearing, 'treated', 0.95)"
   ]
  },
  {
   "cell_type": "code",
   "execution_count": 240,
   "id": "eaf65c4d-3a95-4a80-86d2-3ccac2c286d1",
   "metadata": {},
   "outputs": [],
   "source": [
    "##creating a dataframe describing the coefficients, standard errors, and confidence intervals of treatment on different benefits to use for plotting\n",
    "\n",
    "treated_summary = pd.DataFrame({\n",
    "    'coefficient': [eyewear_stats[0], hearing_stats[0], dental_stats[0]],\n",
    "    'std_error': [eyewear_stats[1], hearing_stats[1], dental_stats[1]],\n",
    "    'lower_bound': [eyewear_stats[2], hearing_stats[2], dental_stats[2]],\n",
    "    'upper_bound': [eyewear_stats[3], hearing_stats[3], dental_stats[3]]\n",
    "}, index=['Eyewear', 'Hearing Aids', 'Dental'])\n",
    "\n",
    "#creating new dataframe to make the plot with\n",
    "treated_summary_plot = treated_summary.reset_index().rename(columns={'index': 'Benefit'})"
   ]
  },
  {
   "cell_type": "code",
   "execution_count": null,
   "id": "e88f0b35-a49b-4f37-ac09-bbdfd62eae55",
   "metadata": {},
   "outputs": [],
   "source": []
  },
  {
   "cell_type": "code",
   "execution_count": 239,
   "id": "47472a78-2da9-4a7e-bda0-e453b163945e",
   "metadata": {},
   "outputs": [
    {
     "data": {
      "image/png": "[encoded data removed]",
      "text/plain": [
       "<Figure size 576x360 with 1 Axes>"
      ]
     },
     "metadata": {
      "needs_background": "light"
     },
     "output_type": "display_data"
    }
   ],
   "source": [
    "# Plotting Effect of Double Bonuses on Supplemental Benefits in Medicare Advantage plans\n",
    "plt.figure(figsize=(8, 5))\n",
    "plt.errorbar(\n",
    "    y = treated_summary_plot['coefficient'], \n",
    "    x= treated_summary_plot['Benefit'], \n",
    "    yerr= treated_summary_plot['coefficient'] - treated_summary_plot['lower_bound'], \n",
    "    fmt='d', \n",
    "    color='black', \n",
    "    ecolor='gray', \n",
    "    capsize=4\n",
    ")\n",
    "\n",
    "plt.axhline(0, color='blue', linestyle='--', linewidth=1)\n",
    "\n",
    "plt.xlabel('Coefficient on Treated')\n",
    "plt.ylabel('Supplemental Benefits')\n",
    "plt.title('Effect of Treatment on Supplemental Benefits')\n",
    "plt.tight_layout()\n",
    "plt.show()\n"
   ]
  }
 ],
 "metadata": {
  "kernelspec": {
   "display_name": "Python 3",
   "language": "python",
   "name": "python3"
  },
  "language_info": {
   "codemirror_mode": {
    "name": "ipython",
    "version": 3
   },
   "file_extension": ".py",
   "mimetype": "text/x-python",
   "name": "python",
   "nbconvert_exporter": "python",
   "pygments_lexer": "ipython3",
   "version": "3.8.5"
  }
 },
 "nbformat": 4,
 "nbformat_minor": 5
}
